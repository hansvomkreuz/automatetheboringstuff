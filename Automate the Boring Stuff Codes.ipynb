{
 "cells": [
  {
   "cell_type": "markdown",
   "metadata": {},
   "source": [
    "# Automate the Boring Stuff"
   ]
  },
  {
   "cell_type": "markdown",
   "metadata": {},
   "source": [
    "**_Automate the Boring Stuff with Python: Practical Programming for the Total Beginner_** is a book written by **_Al Sweigart_**. [[1](http://alsweigart.com/), [2](https://inventwithpython.com/about.html)]\n",
    "\n",
    "Available resources include [online](https://automatetheboringstuff.com/) version of the book and an [online course](https://www.udemy.com/automate/learn/v4/overview) at [Udemy](https://www.udemy.com/) following this book's content can be taken.\n",
    "\n",
    "Below is my attempt to follow the tutorials in the book while also taking the online course. This is my attempt at learning Python from scratch and at the same time my first attempt at using JupyterLab.\n",
    "\n",
    "*Juan dela Cruz*"
   ]
  },
  {
   "cell_type": "markdown",
   "metadata": {},
   "source": [
    "## Import useful libraries"
   ]
  },
  {
   "cell_type": "code",
   "execution_count": 6,
   "metadata": {},
   "outputs": [],
   "source": [
    "import sys\n",
    "import os\n",
    "import platform\n",
    "import numpy"
   ]
  },
  {
   "cell_type": "markdown",
   "metadata": {},
   "source": [
    "## Check Python version"
   ]
  },
  {
   "cell_type": "code",
   "execution_count": 7,
   "metadata": {},
   "outputs": [
    {
     "data": {
      "text/plain": [
       "'3.6.4 |Anaconda, Inc.| (default, Jan 16 2018, 10:22:32) [MSC v.1900 64 bit (AMD64)]'"
      ]
     },
     "execution_count": 7,
     "metadata": {},
     "output_type": "execute_result"
    }
   ],
   "source": [
    "sys.version"
   ]
  },
  {
   "cell_type": "markdown",
   "metadata": {},
   "source": [
    "## Check the machine this code is currently running"
   ]
  },
  {
   "cell_type": "code",
   "execution_count": 8,
   "metadata": {},
   "outputs": [
    {
     "data": {
      "text/plain": [
       "'LC85B76C85369'"
      ]
     },
     "execution_count": 8,
     "metadata": {},
     "output_type": "execute_result"
    }
   ],
   "source": [
    "machine = platform.uname().node\n",
    "machine"
   ]
  },
  {
   "cell_type": "markdown",
   "metadata": {},
   "source": [
    "## Check and assign, if needed, new directory"
   ]
  },
  {
   "cell_type": "markdown",
   "metadata": {},
   "source": [
    "If current directory is not as expected, assign to new directory: use os.getcwd() and os.chdir() functions.\n",
    "\n",
    "Although one can change directories anywhere, JupyterLab file view (**File** tab) does not support vieweing files outside of home directory - *i.e. file navigation is limited to within the home directory*. This issue has already been [raised](http://bit.ly/2IrAwqS) and [targeted](http://bit.ly/2GqamEi) for release in v1.0. \n",
    "\n",
    "As a result, all related files for this project will be saved in the **AnacondaProjects** folder so I can easily view files using the **Files** tab."
   ]
  },
  {
   "cell_type": "markdown",
   "metadata": {},
   "source": [
    "## Chapter 1 - Python Basics\n",
    "Topics covered:\n",
    "* operators\n",
    "* data types (integer, float, string)\n",
    "* string concatenation and replication\n",
    "* variables\n",
    "* assignment statements vs expressions\n",
    "* etc"
   ]
  },
  {
   "cell_type": "markdown",
   "metadata": {},
   "source": [
    "### My first program\n",
    "This program says hello and asks for my name"
   ]
  },
  {
   "cell_type": "code",
   "execution_count": 9,
   "metadata": {},
   "outputs": [
    {
     "name": "stdout",
     "output_type": "stream",
     "text": [
      "Hello world!\n",
      "What is your name?\n",
      "It is good to meet you, Juan.\n",
      "The length of your name is 4.\n",
      "What is your age?\n",
      "You will be 31 in a year.\n"
     ]
    }
   ],
   "source": [
    "print('Hello world!')\n",
    "print('What is your name?')    # ask for their name\n",
    "myName = input()\n",
    "print('It is good to meet you, ' + myName + '.')\n",
    "print('The length of your name is ' + str(len(myName)) + '.')\n",
    "# print(len(myName))\n",
    "print('What is your age?')    # ask for their age\n",
    "myAge = input()\n",
    "print('You will be ' + str(int(myAge) + 1) + ' in a year.')"
   ]
  },
  {
   "cell_type": "markdown",
   "metadata": {},
   "source": [
    "## Chapter 2 - Flow Control\n",
    "\n",
    "Topics covered:\n",
    "* boolean values (*True* and *False*);\n",
    "* comparison operators (==, !=, <, >, <=, and >=);\n",
    "* boolean operators (*and*, *or*, and *not*);\n",
    "* binary boolean operators;\n",
    "* mixing boolean and comparison operators;\n",
    "* elements of a flow control:\n",
    "    * conditions - a flow control statement that decides what to do based on whether its condition is *True* or *False*, and almost every flow control statement uses a condition\n",
    "    * clause - blocks of code that tells the program what to do after a condition was met. Three rules for blocks:\n",
    "            1. blocks begin when the indentation increases\n",
    "            2. blocks can contain other blocks\n",
    "            3. blocks end when the indentation decreases to zero or to a containing blocks indentation\n",
    "* program execution\n",
    "* flow control statements:\n",
    "    * if, elif, and else statements\n",
    "    * while loop statements\n",
    "    * break statements - break out from a while loop; only inside while and for loops\n",
    "    * continue statements - when the program execution reaches a continue statement, the program execution immediately jumps back to the start of the loop and reevaluates the loop’s condition; only inside while and for loops\n",
    "    * CTRL+C - break out from from an infinite loop\n",
    "    * truthy and falsey values\n",
    "    * for loops\n",
    "* importing modules (libraries)\n",
    "    * import statements\n",
    "    * from import statements - with this, no need to prefix with module name when calling a function (eg module.function) but this might come with some problems of masking/conflicts with names, and readability\n",
    "* ending a program early with sys.exit()"
   ]
  },
  {
   "cell_type": "markdown",
   "metadata": {},
   "source": [
    "## Chapter 3 - Functions\n",
    "Topics covered:\n",
    "* return values and return statements\n",
    "* *None* value\n",
    "    * print() returns *None*\n",
    "    * if you use *return* statement without a value, then *None* is returned\n",
    "* keyword arguments and print()\n",
    "* local and global scope\n",
    "* global statement\n",
    "* **exception handling** - errors can be handled with *try* and *except* statments"
   ]
  },
  {
   "cell_type": "code",
   "execution_count": 10,
   "metadata": {},
   "outputs": [
    {
     "name": "stdout",
     "output_type": "stream",
     "text": [
      "21.0\n",
      "3.5\n",
      "Error: invalid argument\n",
      "Error: invalid argument\n",
      "None\n",
      "===============\n",
      "12.0\n",
      "0.8571428571428571\n",
      "Error: Invalid argument.\n"
     ]
    }
   ],
   "source": [
    "def spam(div):\n",
    "    try:\n",
    "        return 42/div\n",
    "    except ZeroDivisionError:\n",
    "        print('Error: invalid argument')\n",
    "print(spam(2))\n",
    "print(spam(12))\n",
    "spam(0)\n",
    "print(spam(0))\n",
    "\n",
    "print('===============')\n",
    "\n",
    "def spam2(div):\n",
    "    return 12/div\n",
    "try:\n",
    "    print(spam2(1))\n",
    "    print(spam2(14))\n",
    "    print(spam2(0))\n",
    "    print(spam2(12))\n",
    "except ZeroDivisionError:\n",
    "    print('Error: Invalid argument.')"
   ]
  },
  {
   "cell_type": "markdown",
   "metadata": {},
   "source": [
    "### A short program: Guess the number\n",
    "This is my own version of the solution given an example output. Added an exception handling for input validation."
   ]
  },
  {
   "cell_type": "code",
   "execution_count": 11,
   "metadata": {},
   "outputs": [
    {
     "name": "stdout",
     "output_type": "stream",
     "text": [
      "I am thinking of a number between 1 and 20.\n",
      "Take a guess.\n",
      "Your guess is too low.\n",
      "Take a guess.\n",
      "Your guess is too low.\n",
      "Take a guess.\n",
      "Good job! You guessed my number in 3 guesses!\n"
     ]
    }
   ],
   "source": [
    "import random\n",
    "number = random.randint(1,20)\n",
    "def evalGuess(num):\n",
    "    print('I am thinking of a number between 1 and 20.')\n",
    "    guesses = 0\n",
    "    guess = 0\n",
    "    while guess != num:\n",
    "        print('Take a guess.')\n",
    "        guess = input()\n",
    "        try:\n",
    "            guess = int(guess)\n",
    "            guesses = guesses + 1\n",
    "            if guess < num:\n",
    "                print('Your guess is too low.')\n",
    "            elif guess > num:\n",
    "                print('Your guess is too high.')\n",
    "            else:\n",
    "                print('Good job! You guessed my number in',str(guesses),'guesses!',sep=' ')\n",
    "        except ValueError:\n",
    "            print('Value is not a number, try again.')\n",
    "\n",
    "evalGuess(number)"
   ]
  },
  {
   "cell_type": "markdown",
   "metadata": {},
   "source": [
    "## Chapter 4 - Lists\n",
    "Topics covered:\n",
    "* **List** data type - is a value that contains *multiple values* in an ordered sequence \n",
    "    * the list itself is the value \n",
    "    * values within the list are called *items* and are separated by commas and enclosed by [].\n",
    "    * individual items within a list can be accessed by calling the indexed reference of the list (ie list variable, eg spam[0]... first element of the 'spam' list) \n",
    "        * indexes start from 0 to item-1, ie left to right counting\n",
    "        * negative index can be used to call items couting from the last item of the list, ie from right to left\n",
    "        * slicing - getting subset of a list done by either specifying 1 to any number of items in the list, inclusive start to exclusive end indices separated by a \":\", eg spam[1:4] slices a spam list on the 2nd to 4th items\n",
    "        * individual items can be changed/updated by specifying list index, eg.\n",
    "            - spam[2] = 'test' will change item 3 of spam list to 'test' string\n",
    "            - spam[-1] = 'test2' will change last item of spam list to 'test2' string\n",
    "    * length of lists can be determined using len() function\n",
    "    * list concatenation - use of \"+\" operator similar to string concatenation\n",
    "    * list replicatin - use of \"\\*\" operator similar to string replication\n",
    "    * **del** statement - removing values/items in a list, eg **_del spam[2]_** will delete 3rd item from spam list; same **del** statement for deleting the entire variable eg **_del spam_** will delete the entire **_spam_** variable\n",
    "* using **for loops** with lists\n",
    "    * **for i in _list_:** will result to substituting **i** with list value directly\n",
    "    * **for i in _range(len(list))_:** will result to substituting **i** with index value\n",
    "    * samples below for two different **for loops** approach"
   ]
  },
  {
   "cell_type": "code",
   "execution_count": 12,
   "metadata": {},
   "outputs": [
    {
     "name": "stdout",
     "output_type": "stream",
     "text": [
      "Index pens in supplies is: pens\n",
      "Index staplers in supplies is: staplers\n",
      "Index flame-throwers in supplies is: flame-throwers\n",
      "Index binders in supplies is: binders\n",
      "Index pens in supplies is: pens\n",
      "***\n",
      "Index 0 in supplies is: pens\n",
      "Index 1 in supplies is: staplers\n",
      "Index 2 in supplies is: flame-throwers\n",
      "Index 3 in supplies is: binders\n",
      "Index 4 in supplies is: pens\n"
     ]
    }
   ],
   "source": [
    "supplies = ['pens', 'staplers', 'flame-throwers', 'binders','pens']\n",
    "for i in supplies:\n",
    "    print('Index',str(i),'in supplies is:',i,sep=' ')\n",
    "print('***')   \n",
    "for i in range(len(supplies)):\n",
    "    print('Index',str(i),'in supplies is:',supplies[i],sep=' ')"
   ]
  },
  {
   "cell_type": "markdown",
   "metadata": {},
   "source": [
    "* the **in** and **not in** operators - check whethen a value is equal to one of the items in a list; this will resolve to a boolean expression\n",
    "* **multiple assignment trick** - is a shortcut that lets you assign multiple variables with the values in a list in one line of code, example below:\n",
    "    * multiple assignment trick can also be used to **swap** values in two variables"
   ]
  },
  {
   "cell_type": "code",
   "execution_count": 13,
   "metadata": {},
   "outputs": [
    {
     "name": "stdout",
     "output_type": "stream",
     "text": [
      "====> Instead of doing this <====\n",
      "fat, orange, loud\n",
      "====> you could type it this way <====\n",
      "fatter, more orange, louder\n",
      "====> or this way <====\n",
      "fattest, most orange, loudest\n",
      "====> multiple assignment can work without the open/close brackets <====\n",
      "x, y, z\n",
      "====> multiple assignment trick can also be used to swap values between two variables <====\n",
      "Alice, Bob\n",
      "Bob, Alice\n"
     ]
    }
   ],
   "source": [
    "print(\"====> Instead of doing this <====\")\n",
    "cat = ['fat', 'orange', 'loud']\n",
    "size = cat[0]\n",
    "color = cat[1]\n",
    "disposition = cat[2]\n",
    "print(size,color,disposition,sep=', ')\n",
    "\n",
    "print(\"====> you could type it this way <====\")\n",
    "cat = ['fatter', 'more orange', 'louder']\n",
    "size, color, disposition = cat\n",
    "print(size,color,disposition,sep=', ')\n",
    "\n",
    "print(\"====> or this way <====\")\n",
    "size, color, disposition = ['fattest', 'most orange', 'loudest']\n",
    "print(size,color,disposition,sep=', ')\n",
    "\n",
    "print(\"====> multiple assignment can work without the open/close brackets <====\")\n",
    "size, color, disposition = 'x', 'y', 'z'\n",
    "print(size,color,disposition,sep=', ')\n",
    "\n",
    "print(\"====> multiple assignment trick can also be used to swap values between two variables <====\")\n",
    "a, b = 'Alice', 'Bob'\n",
    "print(a,b,sep=', ')\n",
    "a, b = b, a\n",
    "print(a,b,sep=', ')"
   ]
  },
  {
   "cell_type": "markdown",
   "metadata": {},
   "source": [
    "* augmented assignment operators, eg **(spam = spam + 1)** == **(spam += 1)**, for other operators detailed [here](http://bit.ly/2DFGgcP)\n",
    "* **methods** - a method is same thing as a function, except it is \"called on\" a value and affectst the value permanently\n",
    "    * index() - finding the location of a value in a list\n",
    "    * append()/insert() - adding new values to a list\n",
    "    * remove() - removing values from a list\n",
    "    * sort() - sorting the values within the list\n",
    "* list-like types: **strings** and **tuples**\n",
    "    * strings and lists are actually similar\n",
    "        * consider a string to be a \"list\" of single text characters\n",
    "        * many of th ethings you can do wiht lists can also be done wiht strings - indexing, slicing, for loops, len(), in and not in operators\n",
    "    * tuple - is almost identical to list except in two ways:\n",
    "        1. tuples are typed in parentheses, *(* and *)*, instead of square brackets, *[* and *]*.\n",
    "        2. tuples are immutable"
   ]
  },
  {
   "cell_type": "code",
   "execution_count": 14,
   "metadata": {},
   "outputs": [
    {
     "name": "stdout",
     "output_type": "stream",
     "text": [
      "this is a test sTrIng.\n",
      "[' ', ' ', ' ', ' ', '.', 'I', 'T', 'a', 'e', 'g', 'h', 'i', 'i', 'n', 'r', 's', 's', 's', 's', 't', 't', 't']\n",
      "this is a test sTrIng.\n",
      "[' ', ' ', ' ', ' ', '.', 'I', 'T', 'a', 'e', 'g', 'h', 'i', 'i', 'n', 'r', 's', 's', 's', 's', 't', 't', 't']\n",
      "[' ', ' ', ' ', ' ', '.', 'I', 'T', 'a', 'e', 'g', 'h', 'i', 'i', 'n', 'r', 's', 's', 's', 's', 't', 't', 't']\n",
      "    .ITaeghiinrssssttt\n"
     ]
    }
   ],
   "source": [
    "text = 'this is a test sTrIng.'\n",
    "print(text)\n",
    "print(sorted(text))\n",
    "print(text)\n",
    "text2 = sorted(text)\n",
    "print(text2)\n",
    "''.join(text2)\n",
    "print(text2)\n",
    "text3 = ''.join(text2)\n",
    "print(text3)"
   ]
  },
  {
   "cell_type": "markdown",
   "metadata": {},
   "source": [
    "* mutable and immutable data types\n",
    "    * list is a mutable - ie values can be added, removed, changed\n",
    "    * string is immutable - it can't be changed\n",
    "* converting types with the **list()** and **tuple()** functions"
   ]
  },
  {
   "cell_type": "code",
   "execution_count": 15,
   "metadata": {},
   "outputs": [
    {
     "name": "stdout",
     "output_type": "stream",
     "text": [
      "('cat', 'dog', 5)\n",
      "['cat', 'dog', 5]\n",
      "['h', 'e', 'l', 'l', 'o', ',', ' ', 'i', 's', ' ', 'i', 't', ' ', 'm', 'e', ' ', 'y', 'o', 'u', \"'\", 'r', 'e', ' ', 'l', 'o', 'o', 'k', 'i', 'n', 'g', ' ', 'f', 'o', 'r', '?']\n"
     ]
    }
   ],
   "source": [
    "print(tuple(['cat', 'dog', 5]))\n",
    "print(list(('cat', 'dog', 5)))\n",
    "print(list('hello, is it me you\\'re looking for?'))"
   ]
  },
  {
   "cell_type": "markdown",
   "metadata": {},
   "source": [
    "* reference - is a value that points to some bit of data, and a list reference is a value that points to a list, example below (the code changed only the *cheese* list, but it seems that both the *cheese* and *spam* lists have changed):"
   ]
  },
  {
   "cell_type": "code",
   "execution_count": 16,
   "metadata": {},
   "outputs": [
    {
     "name": "stdout",
     "output_type": "stream",
     "text": [
      "[0, 'Hello!', 2, 3, 4, 5]\n",
      "[0, 'Hello!', 2, 3, 4, 5]\n"
     ]
    }
   ],
   "source": [
    "spam = [0, 1, 2, 3, 4, 5]\n",
    "cheese = spam\n",
    "cheese[1] = 'Hello!'\n",
    "print(spam)\n",
    "print(cheese)"
   ]
  },
  {
   "cell_type": "markdown",
   "metadata": {},
   "source": [
    "* passing references\n",
    "* the **copy** module's **copy()** and **deepcopy()** functions\n",
    "    * **copy.copy()** can be used to make a duplicate copy of a mutable value like a list or dictionary, eg *spam* and *cheese*\n",
    "    * **copy.deepcopy()** function should be used to copy a list that contains lists"
   ]
  },
  {
   "cell_type": "code",
   "execution_count": 17,
   "metadata": {},
   "outputs": [
    {
     "name": "stdout",
     "output_type": "stream",
     "text": [
      "['A', 'B', 'C', 'D']\n",
      "['A', 42, 'C', 'D']\n",
      "['A', 'B', 'C', 'D', 'E', 'F', ['G', 'H', 'I']]\n",
      "['A', 'B', 'C', 'D', 'E', 'F', ['G', 'H', 'I']]\n",
      "['A', 42, 'C', 'D', 'E', 'F', ['G', 'H', 'I']]\n"
     ]
    }
   ],
   "source": [
    "import copy\n",
    "spam = ['A', 'B', 'C', 'D']\n",
    "cheese = copy.copy(spam)\n",
    "cheese[1] = 42\n",
    "print(spam)\n",
    "print(cheese)\n",
    "spam = spam + ['E','F',['G','H','I']]\n",
    "print(spam)\n",
    "cheese2 = copy.copy(spam)\n",
    "cheese2[1] = 42\n",
    "print(spam)\n",
    "print(cheese2)"
   ]
  },
  {
   "cell_type": "markdown",
   "metadata": {},
   "source": [
    "### Chapter 4 - Summary\n",
    "Lists are useful data types since they allow you to write code that works on a modifiable number of values in a single variable. Later in this book, you will see programs using lists to do things that would be difficult or impossible to do without them.\n",
    "\n",
    "Lists are mutable, meaning that their contents can change. Tuples and strings, although list-like in some respects, are immutable and cannot be changed. A variable that contains a tuple or string value can be overwritten with a new tuple or string value, but this is not the same thing as modifying the existing value in place—like, say, the append() or remove() methods do on lists.\n",
    "\n",
    "Variables do not store list values directly; they store references to lists. This is an important distinction when copying variables or passing lists as arguments in function calls. Because the value that is being copied is the list reference, be aware that any changes you make to the list might impact another variable in your program. You can use copy() or deepcopy() if you want to make changes to a list in one variable without modifying the original list."
   ]
  },
  {
   "cell_type": "markdown",
   "metadata": {},
   "source": [
    "### Chapter 4 - Practice Project: Comma Code\n",
    "Say you have a list value like this:\n",
    "\n",
    "*spam = ['apples', 'bananas', 'tofu', 'cats']*\n",
    "\n",
    "Write a function that takes a list value as an argument and returns a string with all the items separated by a comma and a space, with and inserted before the last item. For example, passing the previous spam list to the function would return *'apples, bananas, tofu, and cats'*. But your function should be able to work with any list value passed to it."
   ]
  },
  {
   "cell_type": "code",
   "execution_count": 18,
   "metadata": {},
   "outputs": [
    {
     "data": {
      "text/plain": [
       "'apples, bananas, tofu, cats, monty, python, foo, and bar'"
      ]
     },
     "execution_count": 18,
     "metadata": {},
     "output_type": "execute_result"
    }
   ],
   "source": [
    "def stitchString(listValue):\n",
    "    string = ''\n",
    "    for i in listValue[:-1]:\n",
    "        string = string + i + ', '\n",
    "    string = string + 'and ' + listValue[-1]\n",
    "    return string\n",
    "\n",
    "spam = ['apples', 'bananas', 'tofu', 'cats', 'monty', 'python', 'foo', 'bar']\n",
    "stitchString(spam)"
   ]
  },
  {
   "cell_type": "markdown",
   "metadata": {},
   "source": [
    "### Chapter 4 - Practice Project: Character Picture Grid\n",
    "Say you have a list of lists (let's call it \"grid\") where each value in the inner lists is a one-character string, like this:\n",
    "\n",
    "    ['.', '.', '.', '.', '.', '.']\n",
    "    ['O', 'O', 'O', 'O', '.', '.']\n",
    "    ['O', 'O', 'O', 'O', 'O', '.']\n",
    "    ['.', 'O', 'O', 'O', 'O', 'O']\n",
    "    ['O', 'O', 'O', 'O', 'O', '.']\n",
    "    ['O', 'O', 'O', 'O', '.', '.']\n",
    "    ['.', 'O', 'O', '.', '.', '.']\n",
    "    ['.', '.', '.', '.', '.', '.']\n",
    "\n",
    "You can think of grid\\[x]\\[y] as being the character at the x- and y-coordinates of a “picture” drawn with text characters. The *(0, 0)* origin will be in the upper-left corner, the x-coordinates increase going right, and the y-coordinates increase going down.\n",
    "\n",
    "Copy the previous grid value, and write code that uses it to print the image.\n",
    "\n",
    "\n",
    "    ..OO.OO..\n",
    "    .OOOOOOO.\n",
    "    .OOOOOOO.\n",
    "    ..OOOOO..\n",
    "    ...OOO...\n",
    "    ....O....\n",
    "\n",
    "Hint: You will need to use a loop in a loop in order to print grid[0][0], then grid[1][0], then grid[2][0], and so on, up to grid[8][0]. This will finish the first row, so then print a newline. Then your program should print grid[0][1], then grid[1][1], then grid[2][1], and so on. The last thing your program will print is grid[8][5].\n",
    "\n",
    "Also, remember to pass the end keyword argument to print() if you don’t want a newline printed automatically after each print() call."
   ]
  },
  {
   "cell_type": "code",
   "execution_count": 19,
   "metadata": {},
   "outputs": [
    {
     "name": "stdout",
     "output_type": "stream",
     "text": [
      "..OO.OO..\n",
      ".OOOOOOO.\n",
      ".OOOOOOO.\n",
      "..OOOOO..\n",
      "...OOO...\n",
      "....O....\n"
     ]
    }
   ],
   "source": [
    "grid = [['.', '.', '.', '.', '.', '.'],\n",
    "        ['.', 'O', 'O', '.', '.', '.'],\n",
    "        ['O', 'O', 'O', 'O', '.', '.'],\n",
    "        ['O', 'O', 'O', 'O', 'O', '.'],\n",
    "        ['.', 'O', 'O', 'O', 'O', 'O'],\n",
    "        ['O', 'O', 'O', 'O', 'O', '.'],\n",
    "        ['O', 'O', 'O', 'O', '.', '.'],\n",
    "        ['.', 'O', 'O', '.', '.', '.'],\n",
    "        ['.', '.', '.', '.', '.', '.']]\n",
    "\n",
    "def printGrid(gridValue):\n",
    "    len1 = len(gridValue)\n",
    "    len2 = len(gridValue[0])\n",
    "    for i in range(len2):\n",
    "        for j in range(len1):\n",
    "            print(gridValue[j][i],sep='',end='')\n",
    "        print('')\n",
    "            \n",
    "printGrid(grid)"
   ]
  },
  {
   "cell_type": "markdown",
   "metadata": {},
   "source": [
    "## Chapter 5 – Dictionaries and Structuring Data\n",
    "Topics covered:\n",
    "* dictionary data type\n",
    "    * *dictionary* is a collection of many values\n",
    "    * unlike indexes for lists, indexes for dictionaries can use many different data types, not just integers\n",
    "    * indexes for dictionaries are called **_keys_**, and a key with its associated value is called a **_key-value_** pair\n",
    "    * it is typed with braces, ** *{}* **\n",
    "    * values can be accessed through their keys\n",
    "    * dictionaries can still use integer values as keys, just like lists use integers for indexes, but they do not have to start at 0 and can be any number\n"
   ]
  },
  {
   "cell_type": "code",
   "execution_count": 20,
   "metadata": {},
   "outputs": [
    {
     "name": "stdout",
     "output_type": "stream",
     "text": [
      "fat\n",
      "My cat has gray fur.\n"
     ]
    }
   ],
   "source": [
    "myCat = {'size': 'fat', 'color': 'gray', 'disposition': 'loud'}\n",
    "print(myCat['size'])\n",
    "print('My cat has ' + myCat['color'] + ' fur.')"
   ]
  },
  {
   "cell_type": "code",
   "execution_count": 21,
   "metadata": {},
   "outputs": [
    {
     "name": "stdout",
     "output_type": "stream",
     "text": [
      "<class 'dict'>\n",
      "Luggage Combination\n",
      "The Answer\n"
     ]
    },
    {
     "ename": "KeyError",
     "evalue": "0",
     "output_type": "error",
     "traceback": [
      "\u001b[1;31m---------------------------------------------------------------------------\u001b[0m",
      "\u001b[1;31mKeyError\u001b[0m                                  Traceback (most recent call last)",
      "\u001b[1;32m<ipython-input-21-cb3dafbd0050>\u001b[0m in \u001b[0;36m<module>\u001b[1;34m()\u001b[0m\n\u001b[0;32m      3\u001b[0m \u001b[0mprint\u001b[0m\u001b[1;33m(\u001b[0m\u001b[0mspam\u001b[0m\u001b[1;33m[\u001b[0m\u001b[1;36m12345\u001b[0m\u001b[1;33m]\u001b[0m\u001b[1;33m)\u001b[0m\u001b[1;33m\u001b[0m\u001b[0m\n\u001b[0;32m      4\u001b[0m \u001b[0mprint\u001b[0m\u001b[1;33m(\u001b[0m\u001b[0mspam\u001b[0m\u001b[1;33m[\u001b[0m\u001b[1;36m42\u001b[0m\u001b[1;33m]\u001b[0m\u001b[1;33m)\u001b[0m\u001b[1;33m\u001b[0m\u001b[0m\n\u001b[1;32m----> 5\u001b[1;33m \u001b[0mprint\u001b[0m\u001b[1;33m(\u001b[0m\u001b[0mspam\u001b[0m\u001b[1;33m[\u001b[0m\u001b[1;36m0\u001b[0m\u001b[1;33m]\u001b[0m\u001b[1;33m)\u001b[0m \u001b[1;31m# would return error\u001b[0m\u001b[1;33m\u001b[0m\u001b[0m\n\u001b[0m",
      "\u001b[1;31mKeyError\u001b[0m: 0"
     ]
    }
   ],
   "source": [
    "spam = {12345: 'Luggage Combination', 42: 'The Answer'}\n",
    "print(type(spam))\n",
    "print(spam[12345])\n",
    "print(spam[42])\n",
    "print(spam[0]) # would return error"
   ]
  },
  {
   "cell_type": "markdown",
   "metadata": {},
   "source": [
    "* dictionaries vs lists\n",
    "    * unlike lists, items in dictionaries are **unordered**\n",
    "    * the first item in a list named _spam_ would be _spam[0]_, but there is no \"first\" item in a dictionary\n",
    "    * while the order of items matters for determining whether two lists are the same, **it does not matter** in what order the key-value pairs are typed in a dictionary\n",
    "    * because dictionaries are not ordered, it **can’t be sliced** like lists\n",
    "    * trying to access a key that does not exist in a dictionary will result in a _KeyError_ error message, much like a list’s “out-of-range” _IndexError_ error message\n",
    "* keys(), values(), amd items() methods:\n",
    "    * are dictionary methods that will return list-like values of the dictionary's keys, values, or both keys and values\n",
    "    * the values reutnred by these methods are **NOT** true lists - they cannot be modified and do not have an **append()** method\n",
    "    * but these data types (*dict_keys*, *dict_values*, and *dict_items*, respectively) **CAN** be used in *for* loops\n",
    "    * *in* and *not in* operators can be used to check whether a key, value, item esxists in a dictionary"
   ]
  },
  {
   "cell_type": "code",
   "execution_count": 22,
   "metadata": {},
   "outputs": [
    {
     "name": "stdout",
     "output_type": "stream",
     "text": [
      "dict_keys(['size', 'color', 'disposition'])\n",
      "--------\n",
      "size\n",
      "<class 'str'>\n",
      "--------\n",
      "color\n",
      "<class 'str'>\n",
      "--------\n",
      "disposition\n",
      "<class 'str'>\n",
      "--------\n"
     ]
    },
    {
     "data": {
      "text/plain": [
       "True"
      ]
     },
     "execution_count": 22,
     "metadata": {},
     "output_type": "execute_result"
    }
   ],
   "source": [
    "spam2 = spam\n",
    "spam = myCat\n",
    "print(spam.keys())\n",
    "for i in spam.keys():\n",
    "    print('--------')\n",
    "    print(i)\n",
    "    print(type(i))\n",
    "print('--------')\n",
    "'color' in spam.keys() "
   ]
  },
  {
   "cell_type": "code",
   "execution_count": 23,
   "metadata": {},
   "outputs": [
    {
     "name": "stdout",
     "output_type": "stream",
     "text": [
      "dict_values(['fat', 'gray', 'loud'])\n",
      "--------\n",
      "fat\n",
      "<class 'str'>\n",
      "--------\n",
      "gray\n",
      "<class 'str'>\n",
      "--------\n",
      "loud\n",
      "<class 'str'>\n",
      "--------\n"
     ]
    },
    {
     "data": {
      "text/plain": [
       "True"
      ]
     },
     "execution_count": 23,
     "metadata": {},
     "output_type": "execute_result"
    }
   ],
   "source": [
    "print(spam.values())\n",
    "for i in spam.values():\n",
    "    print('--------')\n",
    "    print(i)\n",
    "    print(type(i))\n",
    "print('--------')\n",
    "'fat' in spam.values() "
   ]
  },
  {
   "cell_type": "code",
   "execution_count": 24,
   "metadata": {},
   "outputs": [
    {
     "name": "stdout",
     "output_type": "stream",
     "text": [
      "dict_items([('size', 'fat'), ('color', 'gray'), ('disposition', 'loud')])\n",
      "--------\n",
      "('size', 'fat')\n",
      "<class 'tuple'>\n",
      "--------\n",
      "('color', 'gray')\n",
      "<class 'tuple'>\n",
      "--------\n",
      "('disposition', 'loud')\n",
      "<class 'tuple'>\n",
      "--------\n"
     ]
    },
    {
     "data": {
      "text/plain": [
       "True"
      ]
     },
     "execution_count": 24,
     "metadata": {},
     "output_type": "execute_result"
    }
   ],
   "source": [
    "print(spam.items())\n",
    "for i in spam.items():\n",
    "    print('--------')\n",
    "    print(i)\n",
    "    print(type(i))\n",
    "print('--------')\n",
    "('disposition', 'loud') in spam.items() "
   ]
  },
  {
   "cell_type": "markdown",
   "metadata": {},
   "source": [
    "* get() method\n",
    "    * takes two arguments: the key of the value to retrieve and a fallback value to return if that key does not exist\n",
    "    * it is similar to how *coalesce* function works but in a little diffent way, such that it checks whether a key (similar to a table field) exists in a dictionary and use that value if it exists, otherwise, use a specified value\n",
    "    * without using get(), the code would have caused an error message because 'eggs' is not one of the keys in *picnicItems* dictionary"
   ]
  },
  {
   "cell_type": "code",
   "execution_count": 25,
   "metadata": {},
   "outputs": [
    {
     "name": "stdout",
     "output_type": "stream",
     "text": [
      "I am bringing 2 cups.\n",
      "I am bringing 0 eggs.\n"
     ]
    },
    {
     "ename": "KeyError",
     "evalue": "'eggs'",
     "output_type": "error",
     "traceback": [
      "\u001b[1;31m---------------------------------------------------------------------------\u001b[0m",
      "\u001b[1;31mKeyError\u001b[0m                                  Traceback (most recent call last)",
      "\u001b[1;32m<ipython-input-25-8354f5ad5cea>\u001b[0m in \u001b[0;36m<module>\u001b[1;34m()\u001b[0m\n\u001b[0;32m      2\u001b[0m \u001b[0mprint\u001b[0m\u001b[1;33m(\u001b[0m\u001b[1;34m'I am bringing '\u001b[0m \u001b[1;33m+\u001b[0m \u001b[0mstr\u001b[0m\u001b[1;33m(\u001b[0m\u001b[0mpicnicItems\u001b[0m\u001b[1;33m.\u001b[0m\u001b[0mget\u001b[0m\u001b[1;33m(\u001b[0m\u001b[1;34m'cups'\u001b[0m\u001b[1;33m,\u001b[0m \u001b[1;36m0\u001b[0m\u001b[1;33m)\u001b[0m\u001b[1;33m)\u001b[0m \u001b[1;33m+\u001b[0m \u001b[1;34m' cups.'\u001b[0m\u001b[1;33m)\u001b[0m\u001b[1;33m\u001b[0m\u001b[0m\n\u001b[0;32m      3\u001b[0m \u001b[0mprint\u001b[0m\u001b[1;33m(\u001b[0m\u001b[1;34m'I am bringing '\u001b[0m \u001b[1;33m+\u001b[0m \u001b[0mstr\u001b[0m\u001b[1;33m(\u001b[0m\u001b[0mpicnicItems\u001b[0m\u001b[1;33m.\u001b[0m\u001b[0mget\u001b[0m\u001b[1;33m(\u001b[0m\u001b[1;34m'eggs'\u001b[0m\u001b[1;33m,\u001b[0m \u001b[1;36m0\u001b[0m\u001b[1;33m)\u001b[0m\u001b[1;33m)\u001b[0m \u001b[1;33m+\u001b[0m \u001b[1;34m' eggs.'\u001b[0m\u001b[1;33m)\u001b[0m\u001b[1;33m\u001b[0m\u001b[0m\n\u001b[1;32m----> 4\u001b[1;33m \u001b[0mprint\u001b[0m\u001b[1;33m(\u001b[0m\u001b[1;34m'I am bringing '\u001b[0m \u001b[1;33m+\u001b[0m \u001b[0mstr\u001b[0m\u001b[1;33m(\u001b[0m\u001b[0mpicnicItems\u001b[0m\u001b[1;33m[\u001b[0m\u001b[1;34m'eggs'\u001b[0m\u001b[1;33m]\u001b[0m\u001b[1;33m)\u001b[0m \u001b[1;33m+\u001b[0m \u001b[1;34m' eggs.'\u001b[0m\u001b[1;33m)\u001b[0m\u001b[1;33m\u001b[0m\u001b[0m\n\u001b[0m",
      "\u001b[1;31mKeyError\u001b[0m: 'eggs'"
     ]
    }
   ],
   "source": [
    "picnicItems = {'apples': 5, 'cups': 2}\n",
    "print('I am bringing ' + str(picnicItems.get('cups', 0)) + ' cups.')\n",
    "print('I am bringing ' + str(picnicItems.get('eggs', 0)) + ' eggs.')\n",
    "print('I am bringing ' + str(picnicItems['eggs']) + ' eggs.')"
   ]
  },
  {
   "cell_type": "markdown",
   "metadata": {},
   "source": [
    "* setdefault() method\n",
    "    * can be used to set a value in a dictionary for a certain key **only if** that key does **NOT** already have a value\n",
    "    * if the key already exists, the *setdefault()* method returns the key’s value"
   ]
  },
  {
   "cell_type": "code",
   "execution_count": 26,
   "metadata": {},
   "outputs": [
    {
     "name": "stdout",
     "output_type": "stream",
     "text": [
      "black\n",
      "5\n",
      "{'name': 'Pooka', 'age': 5, 'color': 'black'}\n"
     ]
    }
   ],
   "source": [
    "spam = {'name': 'Pooka', 'age': 5}\n",
    "print(spam.setdefault('color', 'black'))\n",
    "print(spam.setdefault('age', 6))\n",
    "print(spam)"
   ]
  },
  {
   "cell_type": "markdown",
   "metadata": {},
   "source": [
    "* dictionaries **CAN** contain dictionary values - ie nested dictionaries"
   ]
  },
  {
   "cell_type": "code",
   "execution_count": 27,
   "metadata": {},
   "outputs": [
    {
     "name": "stdout",
     "output_type": "stream",
     "text": [
      "{'age': 21, 'race': 'black'}\n",
      "{'age': 18, 'race': 'yellow'}\n"
     ]
    }
   ],
   "source": [
    "spam = {'man1':{'age':21,'race':'black'}, 'man2':{'age':20,'race':'brown'}, 'man3':{'age':19,'race':'white'}}\n",
    "'race' in spam\n",
    "print(spam.setdefault('man1',{'age':18,'race':'yellow'}))\n",
    "print(spam.setdefault('man4',{'age':18,'race':'yellow'}))"
   ]
  },
  {
   "cell_type": "markdown",
   "metadata": {},
   "source": [
    "* pretty printing\n",
    "    * using the *pprint* module, you can access the *pprint()* and *pformat()* functions will \"pretty print\" dictionary values"
   ]
  },
  {
   "cell_type": "code",
   "execution_count": 28,
   "metadata": {},
   "outputs": [
    {
     "name": "stdout",
     "output_type": "stream",
     "text": [
      "{'man1': {'age': 21, 'race': 'black'},\n",
      " 'man2': {'age': 20, 'race': 'brown'},\n",
      " 'man3': {'age': 19, 'race': 'white'},\n",
      " 'man4': {'age': 18, 'race': 'yellow'}}\n"
     ]
    }
   ],
   "source": [
    "import pprint\n",
    "pprint.pprint(spam)"
   ]
  },
  {
   "cell_type": "code",
   "execution_count": 29,
   "metadata": {},
   "outputs": [
    {
     "name": "stdout",
     "output_type": "stream",
     "text": [
      "<class 'dict'>\n",
      "{' ': 13,\n",
      " ',': 1,\n",
      " '.': 1,\n",
      " 'A': 1,\n",
      " 'I': 1,\n",
      " 'a': 4,\n",
      " 'b': 1,\n",
      " 'c': 3,\n",
      " 'd': 3,\n",
      " 'e': 5,\n",
      " 'g': 2,\n",
      " 'h': 3,\n",
      " 'i': 6,\n",
      " 'k': 2,\n",
      " 'l': 3,\n",
      " 'n': 4,\n",
      " 'o': 2,\n",
      " 'p': 1,\n",
      " 'r': 5,\n",
      " 's': 3,\n",
      " 't': 6,\n",
      " 'w': 2,\n",
      " 'y': 1}\n"
     ]
    }
   ],
   "source": [
    "message = 'It was a bright cold day in April, and the clocks were striking thirteen.'\n",
    "count = {}\n",
    "\n",
    "print(type(count))\n",
    "\n",
    "for character in message:\n",
    "    count.setdefault(character, 0)\n",
    "    count[character] = count[character] + 1\n",
    "\n",
    "pprint.pprint(count)"
   ]
  },
  {
   "cell_type": "markdown",
   "metadata": {},
   "source": [
    "### Chapter 5 - Summary\n",
    "You learned all about dictionaries in this chapter. Lists and dictionaries are values that can contain multiple values, including other lists and dictionaries. Dictionaries are useful because you can map one item (the key) to another (the value), as opposed to lists, which simply contain a series of values in order. Values inside a dictionary are accessed using square brackets just as with lists. Instead of an integer index, dictionaries can have keys of a variety of data types: integers, floats, strings, or tuples. By organizing a program’s values into data structures, you can create representations of real-world objects. You saw an example of this with a tic-tac-toe board.\n",
    "\n",
    "### Chapter 5 - Practice Project: Fantasy Game Inventory\n",
    "You are creating a fantasy video game. The data structure to model the player’s inventory will be a dictionary where the keys are string values describing the item in the inventory and the value is an integer value detailing how many of that item the player has. For example, the dictionary value {'rope': 1, 'torch': 6, 'gold coin': 42, 'dagger': 1, 'arrow': 12} means the player has 1 rope, 6 torches, 42 gold coins, and so on."
   ]
  },
  {
   "cell_type": "code",
   "execution_count": 30,
   "metadata": {},
   "outputs": [
    {
     "name": "stdout",
     "output_type": "stream",
     "text": [
      "Inventory:\n",
      "1 rope\n",
      "6 torch\n",
      "42 gold coin\n",
      "1 dagger\n",
      "12 arrow\n",
      "Total number of items: 62\n"
     ]
    }
   ],
   "source": [
    "stuff = {'rope': 1, 'torch': 6, 'gold coin': 42, 'dagger': 1, 'arrow': 12}\n",
    "\n",
    "def displayInventory(inventory):\n",
    "    print('Inventory:')\n",
    "    for i,j in inventory.items():\n",
    "        print(str(j),str(i))\n",
    "    print('Total number of items: ' + str(sum(inventory.values())))\n",
    "\n",
    "displayInventory(stuff)"
   ]
  },
  {
   "cell_type": "markdown",
   "metadata": {},
   "source": [
    "### Chapter 5 - Practice Project: List to Dictionary Function for Fantasy Game Inventory\n",
    "Imagine that a vanquished dragon’s loot is represented as a list of strings like this:\n",
    "\n",
    "*dragonLoot = ['gold coin', 'dagger', 'gold coin', 'gold coin', 'ruby']*\n",
    "\n",
    "Write a function named *addToInventory(inventory, addedItems)*, where the inventory parameter is a dictionary representing the player’s inventory (like in the previous project) and the addedItems parameter is a list like dragonLoot. The addToInventory() function should return a dictionary that represents the updated inventory. Note that the addedItems list can contain multiples of the same item. Your code could look something like this:\n",
    "\n",
    "*\n",
    "inv = {'gold coin': 42, 'rope': 1}<br>\n",
    "dragonLoot = ['gold coin', 'dagger', 'gold coin', 'gold coin', 'ruby']<br>\n",
    "inv = addToInventory(inv, dragonLoot)<br>\n",
    "displayInventory(inv)\n",
    "*"
   ]
  },
  {
   "cell_type": "code",
   "execution_count": 31,
   "metadata": {},
   "outputs": [
    {
     "name": "stdout",
     "output_type": "stream",
     "text": [
      "Inventory:\n",
      "45 gold coin\n",
      "1 rope\n",
      "1 dagger\n",
      "1 ruby\n",
      "Total number of items: 48\n"
     ]
    }
   ],
   "source": [
    "def addToInventory(inventory, addedItems):\n",
    "    for i in addedItems:\n",
    "        if i in inventory.keys():\n",
    "            inventory[i] += 1\n",
    "        else:\n",
    "            inventory.setdefault(i,1)\n",
    "    return inventory\n",
    "\n",
    "inv = {'gold coin': 42, 'rope': 1}\n",
    "dragonLoot = ['gold coin', 'dagger', 'gold coin', 'gold coin', 'ruby']\n",
    "inv = addToInventory(inv, dragonLoot)\n",
    "displayInventory(inv)"
   ]
  },
  {
   "cell_type": "markdown",
   "metadata": {},
   "source": [
    "## Chapter 6 - Manipulating Strings\n",
    "Topics covered:\n",
    "* string literals\n",
    "    * double quotes\n",
    "    * escape characters, below are list of escape characters - printed as combo:\n",
    "        * \\' - single quote\n",
    "        * \\\" - double quote\n",
    "        * \\t - tab\n",
    "        * \\n - newline/line break\n",
    "        * \\\\ - backslash\n",
    "    * raw strings - placing an *r* before the beginning quotation mark of a string to make it a raw string. A *raw string* completely ignores all escape characters and prints any backslash that appears in the string\n",
    "    * multiline strings with triple quotes - while you can use the *\\n* escape character to put a newline into a string, it is often easier to use multiline strings. A multiline string in Python begins and ends with either three single quotes or three double quotes. Any quotes, tabs, or newlines in between the “triple quotes” are considered part of the string. Python’s indentation rules for blocks do not apply to lines inside a multiline string.\n",
    "    * multiline comments by starting and ending comments with *triple double quotes*"
   ]
  },
  {
   "cell_type": "code",
   "execution_count": 32,
   "metadata": {},
   "outputs": [
    {
     "name": "stdout",
     "output_type": "stream",
     "text": [
      "Hello there!\n",
      "How are you?\n",
      "I'm doing fine.\n",
      "--------\n",
      "That is Carol\\'s cat.\n",
      "--------\n",
      "Dear Alice,\n",
      "\n",
      "Eve's cat has been arrested for catnapping, cat burglary, and extortion.\n",
      "\n",
      "Sincerely,\n",
      "Bob\n",
      "--------\n",
      "Dear Alice,\n",
      "\n",
      "Eve's cat has been arrested for catnapping, cat burglary, and extortion.\n",
      "\n",
      "Sincerely,\n",
      "Bob\n"
     ]
    }
   ],
   "source": [
    "print(\"Hello there!\\nHow are you?\\nI\\'m doing fine.\")\n",
    "print('--------')\n",
    "print(r'That is Carol\\'s cat.')\n",
    "print('--------')\n",
    "print('''Dear Alice,\n",
    "\n",
    "Eve's cat has been arrested for catnapping, cat burglary, and extortion.\n",
    "\n",
    "Sincerely,\n",
    "Bob''')\n",
    "print('--------')\n",
    "print('Dear Alice,\\n\\nEve\\'s cat has been arrested for catnapping, cat burglary, and extortion.\\n\\nSincerely,\\nBob')"
   ]
  },
  {
   "cell_type": "markdown",
   "metadata": {},
   "source": [
    "* indexing and slicing strings - similar to list\n",
    "* *in* and *not in* operators work with strings\n",
    "* useful string methods\n",
    "    * *upper()* and *lower()* methods return a new string where all the letters in the original string have been converted to upper- or lowerc-case, respectively. These methods does **not** change the original value, use assignment operator to update\n",
    "    * *isupper()* and *islower()* methods return a Boolean *True* value if the string has **at least one** letter and **ALL** the letters are upper- or lower-case, respectively\n",
    "    * *isX* methods - helpful when you need to validate user input\n",
    "        * *isalpha()* - returns *True* if the string consists only of letters and is not blank\n",
    "        * *isalnum()* - returns *True* if the string consists only of letters AND/OR numbers and is not blank or has NO blank characters\n",
    "        * *isdecimal()* - returns *True* if the string consists only of numeric integer characters (decimal point is considered a character, hence will return as *False*) and is not blank and does NOT contain any blank character\n",
    "        * *isspace()* - returns *True* if the string consists only of spaces, tabs, and new-lines and is not blank\n",
    "        * *istitle()* - returns *True* if the string consists only of words that begin with an uppercase letter followed by only lowercase letters\n",
    "    * *startswith()* and *endswith()* methods -  return *True* if the string value they are called on begins or ends (respectively) with the string passed to the method; otherwise, they return *False*\n",
    "    * *join()* and *split()* methods\n",
    "        * *join()* - useful when you have a list of strings that need to be joined together into a single string value\n",
    "        * *split()* - does the opposite of *join()* method where you can specify the character to split the string, by default, it splits at spaces"
   ]
  },
  {
   "cell_type": "code",
   "execution_count": 33,
   "metadata": {},
   "outputs": [
    {
     "name": "stdout",
     "output_type": "stream",
     "text": [
      "Testing upper() and lower() methods:\n",
      "hello, world! HELLO, WORLD!\n",
      "Hello, World!\n",
      "hello, world!\n"
     ]
    }
   ],
   "source": [
    "print('Testing upper() and lower() methods:')\n",
    "spam = 'Hello, World!'\n",
    "print(spam.lower(), spam.upper())\n",
    "print(spam)\n",
    "spam = spam.lower()\n",
    "print(spam)"
   ]
  },
  {
   "cell_type": "code",
   "execution_count": 34,
   "metadata": {},
   "outputs": [
    {
     "name": "stdout",
     "output_type": "stream",
     "text": [
      "Testing isupper() and islower() methods:\n",
      "False\n",
      "--------\n",
      "False\n",
      "--------\n",
      "True\n",
      "--------\n",
      "True\n",
      "--------\n",
      "False\n",
      "--------\n",
      "False\n"
     ]
    }
   ],
   "source": [
    "print('Testing isupper() and islower() methods:')\n",
    "spam = 'Hello world!'\n",
    "print(spam.islower())\n",
    "print('--------')\n",
    "print(spam.isupper())\n",
    "print('--------')\n",
    "print('HELLO'.isupper())\n",
    "print('--------')\n",
    "print('abc12345'.islower())\n",
    "print('--------')\n",
    "print('12345'.islower())\n",
    "print('--------')\n",
    "print('12345'.isupper())"
   ]
  },
  {
   "cell_type": "code",
   "execution_count": 35,
   "metadata": {},
   "outputs": [
    {
     "name": "stdout",
     "output_type": "stream",
     "text": [
      "Testing isX methods:\n",
      "islpha() method: True False\n",
      "--------\n",
      "isalnum() method: True True True False\n",
      "--------\n",
      "isdecimal() method: False False True False False\n",
      "--------\n",
      "isspace() mtehod: True False False\n",
      "--------\n",
      "istitle() method: False True False\n"
     ]
    }
   ],
   "source": [
    "print('Testing isX methods:')\n",
    "print('islpha() method:','hello'.isalpha(),'hello123'.isalpha())\n",
    "print('--------')\n",
    "print('isalnum() method:','hello'.isalnum(),'hello123'.isalnum(),'12345'.isalnum(),\n",
    "      '12 345'.isalnum())\n",
    "print('--------')\n",
    "print('isdecimal() method:','hello'.isdecimal(),'hello123'.isdecimal(),\n",
    "      '123'.isdecimal(),'123.0'.isdecimal(),'12 3'.isdecimal())\n",
    "print('--------')\n",
    "print('isspace() mtehod:','     '.isspace(),''.isspace(),'hel lo'.isspace())\n",
    "print('--------')\n",
    "print('istitle() method:','This is NOT a title'.istitle(),\n",
    "     'This Is A Title'.istitle(), 'This Is NOT A Title'.istitle())"
   ]
  },
  {
   "cell_type": "code",
   "execution_count": 36,
   "metadata": {},
   "outputs": [
    {
     "name": "stdout",
     "output_type": "stream",
     "text": [
      "Testing join() methods\n",
      "catsratsbats\n",
      "--------\n",
      "cats,rats,bats\n",
      "--------\n",
      "cats, rats, bats\n",
      "--------\n",
      "catsXXXratsXXXbats\n"
     ]
    }
   ],
   "source": [
    "print('Testing join() methods')\n",
    "spam = ['cats', 'rats', 'bats']\n",
    "print(''.join(spam))\n",
    "print('--------')\n",
    "print(','.join(spam))\n",
    "print('--------')\n",
    "print(', '.join(spam))\n",
    "print('--------')\n",
    "print('XXX'.join(spam))"
   ]
  },
  {
   "cell_type": "code",
   "execution_count": 37,
   "metadata": {},
   "outputs": [
    {
     "name": "stdout",
     "output_type": "stream",
     "text": [
      "Testing split() methods\n",
      "['My', 'name', 'is', 'Simon.']\n",
      "--------\n",
      "['My name is Simon.']\n",
      "--------\n",
      "M,y, ,n,a,m,e, ,i,s, ,S,i,m,o,n,.\n",
      "['M,y,', ',n,a,m,e,', ',i,s,', ',S,i,m,o,n,.']\n",
      "['M', 'y', ' ', 'n', 'a', 'm', 'e', ' ', 'i', 's', ' ', 'S', 'i', 'm', 'o', 'n', '.']\n"
     ]
    }
   ],
   "source": [
    "print('Testing split() methods')\n",
    "spam = 'My name is Simon.'\n",
    "print(spam.split())\n",
    "print('--------')\n",
    "print(spam.split('\\n'))\n",
    "print('--------')\n",
    "print(','.join(spam))\n",
    "print(','.join(spam).split())\n",
    "print(','.join(spam).split(','))"
   ]
  },
  {
   "cell_type": "markdown",
   "metadata": {},
   "source": [
    "* justifying text with *rjust()*, *ljust()*, and *center()* - return a padded version of the string they are called on, with spaces inserted to justify the text"
   ]
  },
  {
   "cell_type": "code",
   "execution_count": 38,
   "metadata": {},
   "outputs": [
    {
     "name": "stdout",
     "output_type": "stream",
     "text": [
      "     Hello\n",
      "Hello     \n",
      "  Hello   \n",
      "=====Hello\n",
      "Hello=====\n",
      "==Hello===\n"
     ]
    }
   ],
   "source": [
    "print('Hello'.rjust(10))\n",
    "print('Hello'.ljust(10))\n",
    "print('Hello'.center(10))\n",
    "print('Hello'.rjust(10,'='))\n",
    "print('Hello'.ljust(10,'='))\n",
    "print('Hello'.center(10,'='))"
   ]
  },
  {
   "cell_type": "markdown",
   "metadata": {},
   "source": [
    "* removing whitespaces (space, tab, and newline by default) with *strip()*, *rstrip()*, and *lstrip()* methods both beginning and end, end, or beginning, respectively\n",
    "    * optionally, a string argument will specify which characters on the ends should be stripped"
   ]
  },
  {
   "cell_type": "code",
   "execution_count": 39,
   "metadata": {},
   "outputs": [
    {
     "name": "stdout",
     "output_type": "stream",
     "text": [
      "Hello World\n",
      "    Hello World\n",
      "Hello World     \n"
     ]
    }
   ],
   "source": [
    "spam = '    Hello World     '\n",
    "print(spam.strip())\n",
    "print(spam.rstrip())\n",
    "print(spam.lstrip())"
   ]
  },
  {
   "cell_type": "code",
   "execution_count": 40,
   "metadata": {},
   "outputs": [
    {
     "data": {
      "text/plain": [
       "'BaconSpamEggs'"
      ]
     },
     "execution_count": 40,
     "metadata": {},
     "output_type": "execute_result"
    }
   ],
   "source": [
    "spam = 'SpamSpamBaconSpamEggsSpamSpam'\n",
    "spam.strip('ampS') # will strip occurences of a, m, p, and capital S from the ends of the string stored in spam "
   ]
  },
  {
   "cell_type": "markdown",
   "metadata": {},
   "source": [
    "* copying and pasting strings with the **pyperclip** module\n",
    "    * can send text to and receive text from your **computer’s clipboard**\n",
    "    * sending the output of your program to the clipboard will make it easy to paste it to an email, word processor, or some other software\n",
    "    * alternative solution presented in \"Practice Project: Password Locker\" since I can't install pyperclip library in my computer due to admin restrictions"
   ]
  },
  {
   "cell_type": "code",
   "execution_count": 41,
   "metadata": {},
   "outputs": [
    {
     "ename": "ModuleNotFoundError",
     "evalue": "No module named 'pyperclip'",
     "output_type": "error",
     "traceback": [
      "\u001b[1;31m---------------------------------------------------------------------------\u001b[0m",
      "\u001b[1;31mModuleNotFoundError\u001b[0m                       Traceback (most recent call last)",
      "\u001b[1;32m<ipython-input-41-e9c247bf8cfe>\u001b[0m in \u001b[0;36m<module>\u001b[1;34m()\u001b[0m\n\u001b[1;32m----> 1\u001b[1;33m \u001b[1;32mimport\u001b[0m \u001b[0mpyperclip\u001b[0m \u001b[1;31m# needs to be installed\u001b[0m\u001b[1;33m\u001b[0m\u001b[0m\n\u001b[0m\u001b[0;32m      2\u001b[0m \u001b[0mpyperclip\u001b[0m\u001b[1;33m.\u001b[0m\u001b[0mcopy\u001b[0m\u001b[1;33m(\u001b[0m\u001b[1;34m'Hello world!'\u001b[0m\u001b[1;33m)\u001b[0m\u001b[1;33m\u001b[0m\u001b[0m\n\u001b[0;32m      3\u001b[0m \u001b[0mpyperclip\u001b[0m\u001b[1;33m.\u001b[0m\u001b[0mpaste\u001b[0m\u001b[1;33m(\u001b[0m\u001b[1;33m)\u001b[0m\u001b[1;33m\u001b[0m\u001b[0m\n",
      "\u001b[1;31mModuleNotFoundError\u001b[0m: No module named 'pyperclip'"
     ]
    }
   ],
   "source": [
    "import pyperclip # needs to be installed\n",
    "pyperclip.copy('Hello world!')\n",
    "pyperclip.paste()"
   ]
  },
  {
   "cell_type": "markdown",
   "metadata": {},
   "source": [
    "### Chapter 6 - Practice Project: Password Locker\n",
    "You probably have accounts on many different websites. It’s a bad habit to use the same password for each of them because if any of those sites has a security breach, the hackers will learn the password to all of your other accounts. It’s best to use password manager software on your computer that uses one master password to unlock the password manager. Then you can copy any account password to the clipboard and paste it into the website’s Password field.\n",
    "\n",
    "Solution:\n",
    "1. Created pw.py to create the copy password process\n",
    "    * deviated from using \"pyperclip\" module since I can't install it in machine. Instead, created a function that copies text to clipboard using a native Python module, **subprocess**\n",
    "    * code copied from [stackoverflow](https://stackoverflow.com/a/41029935)\n",
    "2. Created the pw.bat batch file to execute the python program\n",
    "    * this must be saved in a folder defined in PATH environment variables (search in program files \"Edit environment variables for your account\")\n",
    "    \n",
    "Usage:\n",
    "1. Press Windows+R, a command line should appear\n",
    "2. Type pw [account] - example: \"pw email\" or \"pw blog\" would copy the stored password for email and blog, respectively, to the clipboard."
   ]
  }
 ],
 "metadata": {
  "kernelspec": {
   "display_name": "Python 3",
   "language": "python",
   "name": "python3"
  },
  "language_info": {
   "codemirror_mode": {
    "name": "ipython",
    "version": 3
   },
   "file_extension": ".py",
   "mimetype": "text/x-python",
   "name": "python",
   "nbconvert_exporter": "python",
   "pygments_lexer": "ipython3",
   "version": "3.6.4"
  }
 },
 "nbformat": 4,
 "nbformat_minor": 2
}
